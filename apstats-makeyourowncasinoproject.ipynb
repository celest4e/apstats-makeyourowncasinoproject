{
 "cells": [
  {
   "cell_type": "code",
   "execution_count": 5,
   "id": "5bcc1f7f",
   "metadata": {
    "ExecuteTime": {
     "end_time": "2023-11-17T21:01:10.516413Z",
     "start_time": "2023-11-17T21:01:09.710927Z"
    }
   },
   "outputs": [
    {
     "data": {
      "text/plain": "   Round 1 Round 2 Round 3 Round 4 Round 5 Round 6  Utility\n0        H       H       H       H       H       H     1956\n1        H       H       H       H       H       T     1944\n2        H       H       H       H       T       H     1896\n3        H       H       H       H       T       T     1884\n4        H       H       H       T       H       H     1716\n..     ...     ...     ...     ...     ...     ...      ...\n59       T       T       T       H       T       T    -1716\n60       T       T       T       T       H       H    -1884\n61       T       T       T       T       H       T    -1896\n62       T       T       T       T       T       H    -1944\n63       T       T       T       T       T       T    -1956\n\n[64 rows x 7 columns]",
      "text/html": "<div>\n<style scoped>\n    .dataframe tbody tr th:only-of-type {\n        vertical-align: middle;\n    }\n\n    .dataframe tbody tr th {\n        vertical-align: top;\n    }\n\n    .dataframe thead th {\n        text-align: right;\n    }\n</style>\n<table border=\"1\" class=\"dataframe\">\n  <thead>\n    <tr style=\"text-align: right;\">\n      <th></th>\n      <th>Round 1</th>\n      <th>Round 2</th>\n      <th>Round 3</th>\n      <th>Round 4</th>\n      <th>Round 5</th>\n      <th>Round 6</th>\n      <th>Utility</th>\n    </tr>\n  </thead>\n  <tbody>\n    <tr>\n      <th>0</th>\n      <td>H</td>\n      <td>H</td>\n      <td>H</td>\n      <td>H</td>\n      <td>H</td>\n      <td>H</td>\n      <td>1956</td>\n    </tr>\n    <tr>\n      <th>1</th>\n      <td>H</td>\n      <td>H</td>\n      <td>H</td>\n      <td>H</td>\n      <td>H</td>\n      <td>T</td>\n      <td>1944</td>\n    </tr>\n    <tr>\n      <th>2</th>\n      <td>H</td>\n      <td>H</td>\n      <td>H</td>\n      <td>H</td>\n      <td>T</td>\n      <td>H</td>\n      <td>1896</td>\n    </tr>\n    <tr>\n      <th>3</th>\n      <td>H</td>\n      <td>H</td>\n      <td>H</td>\n      <td>H</td>\n      <td>T</td>\n      <td>T</td>\n      <td>1884</td>\n    </tr>\n    <tr>\n      <th>4</th>\n      <td>H</td>\n      <td>H</td>\n      <td>H</td>\n      <td>T</td>\n      <td>H</td>\n      <td>H</td>\n      <td>1716</td>\n    </tr>\n    <tr>\n      <th>...</th>\n      <td>...</td>\n      <td>...</td>\n      <td>...</td>\n      <td>...</td>\n      <td>...</td>\n      <td>...</td>\n      <td>...</td>\n    </tr>\n    <tr>\n      <th>59</th>\n      <td>T</td>\n      <td>T</td>\n      <td>T</td>\n      <td>H</td>\n      <td>T</td>\n      <td>T</td>\n      <td>-1716</td>\n    </tr>\n    <tr>\n      <th>60</th>\n      <td>T</td>\n      <td>T</td>\n      <td>T</td>\n      <td>T</td>\n      <td>H</td>\n      <td>H</td>\n      <td>-1884</td>\n    </tr>\n    <tr>\n      <th>61</th>\n      <td>T</td>\n      <td>T</td>\n      <td>T</td>\n      <td>T</td>\n      <td>H</td>\n      <td>T</td>\n      <td>-1896</td>\n    </tr>\n    <tr>\n      <th>62</th>\n      <td>T</td>\n      <td>T</td>\n      <td>T</td>\n      <td>T</td>\n      <td>T</td>\n      <td>H</td>\n      <td>-1944</td>\n    </tr>\n    <tr>\n      <th>63</th>\n      <td>T</td>\n      <td>T</td>\n      <td>T</td>\n      <td>T</td>\n      <td>T</td>\n      <td>T</td>\n      <td>-1956</td>\n    </tr>\n  </tbody>\n</table>\n<p>64 rows × 7 columns</p>\n</div>"
     },
     "execution_count": 5,
     "metadata": {},
     "output_type": "execute_result"
    }
   ],
   "source": [
    "import numpy as np\n",
    "import pandas as pd\n",
    "\n",
    "def function(faceList):\n",
    "    utility = 0\n",
    "    for x in range(len(faceList)):\n",
    "        utility = mathfunc(faceList[x], x+1, utility)\n",
    "    return utility\n",
    "\n",
    "def mathfunc(face, turn, val):\n",
    "    if face == 'H':\n",
    "        return turn*val + turn\n",
    "    else:\n",
    "        return turn*val - turn\n",
    "    \n",
    "df = pd.DataFrame(columns=['Round 1','Round 2','Round 3','Round 4','Round 5','Round 6', 'Utility'])\n",
    "\n",
    "flips = 6\n",
    "\n",
    "def recurseRounds(flips, currSetup, roundNumber):\n",
    "    roundNum = roundNumber\n",
    "    thisList = currSetup.copy()\n",
    "    thisList.append('H')\n",
    "    if flips == 1:\n",
    "        thisList.append(function(thisList))\n",
    "        df.loc[len(df)] = thisList\n",
    "        roundNum += 1\n",
    "    else:\n",
    "        roundNum = recurseRounds(flips-1, thisList, roundNum)\n",
    "    \n",
    "    otherList = currSetup.copy()\n",
    "    otherList.append('T')\n",
    "    if flips == 1:\n",
    "        otherList.append(function(otherList))\n",
    "        df.loc[len(df)] = otherList\n",
    "        roundNum += 1    \n",
    "    else:\n",
    "        roundNum = recurseRounds(flips-1, otherList, roundNum)\n",
    "    return roundNum\n",
    "        \n",
    "recurseRounds(flips, [], 1)\n",
    "df"
   ]
  },
  {
   "cell_type": "code",
   "execution_count": 6,
   "id": "74dc8bcd",
   "metadata": {
    "ExecuteTime": {
     "end_time": "2023-11-17T21:01:10.526202Z",
     "start_time": "2023-11-17T21:01:10.515531Z"
    }
   },
   "outputs": [
    {
     "data": {
      "text/plain": "0"
     },
     "execution_count": 6,
     "metadata": {},
     "output_type": "execute_result"
    }
   ],
   "source": [
    "sum = df['Utility'].sum()\n",
    "sum"
   ]
  },
  {
   "cell_type": "code",
   "execution_count": 7,
   "id": "c1b903392c0453c6",
   "metadata": {
    "ExecuteTime": {
     "end_time": "2023-11-17T21:01:10.689Z",
     "start_time": "2023-11-17T21:01:10.521532Z"
    }
   },
   "outputs": [],
   "source": [
    "df.to_csv('data.csv')"
   ]
  },
  {
   "cell_type": "code",
   "execution_count": 12,
   "outputs": [],
   "source": [
    "import random\n",
    "# Simulating a bunch of trials for the experiment\n",
    "\n",
    "simulationData = pd.DataFrame(columns=['Trial #', 'Round 1','Round 2','Round 3','Round 4','Round 5','Round 6', 'Utility'])\n",
    "for trial in range(64):\n",
    "    trialData = [trial+1]\n",
    "    for round in range(flips):\n",
    "        trialData.append(random.choice(['H', 'T']))\n",
    "    trialData.append(function(trialData[1:]))\n",
    "    simulationData.loc[len(simulationData)] = trialData"
   ],
   "metadata": {
    "collapsed": false,
    "ExecuteTime": {
     "end_time": "2023-11-17T21:04:37.055586Z",
     "start_time": "2023-11-17T21:04:37.019034Z"
    }
   },
   "id": "a3efc96da4a5d524"
  },
  {
   "cell_type": "code",
   "execution_count": 13,
   "outputs": [
    {
     "data": {
      "text/plain": "    Trial # Round 1 Round 2 Round 3 Round 4 Round 5 Round 6  Utility\n0         1       T       H       T       H       H       T     -216\n1         2       H       T       T       H       T       T     -276\n2         3       T       H       T       H       T       T     -276\n3         4       T       H       H       H       H       H      516\n4         5       H       H       H       T       T       T     1644\n..      ...     ...     ...     ...     ...     ...     ...      ...\n59       60       T       T       T       T       H       H    -1884\n60       61       H       H       H       T       T       T     1644\n61       62       H       H       T       T       T       T      924\n62       63       T       H       H       H       T       T      444\n63       64       T       T       T       T       T       T    -1956\n\n[64 rows x 8 columns]",
      "text/html": "<div>\n<style scoped>\n    .dataframe tbody tr th:only-of-type {\n        vertical-align: middle;\n    }\n\n    .dataframe tbody tr th {\n        vertical-align: top;\n    }\n\n    .dataframe thead th {\n        text-align: right;\n    }\n</style>\n<table border=\"1\" class=\"dataframe\">\n  <thead>\n    <tr style=\"text-align: right;\">\n      <th></th>\n      <th>Trial #</th>\n      <th>Round 1</th>\n      <th>Round 2</th>\n      <th>Round 3</th>\n      <th>Round 4</th>\n      <th>Round 5</th>\n      <th>Round 6</th>\n      <th>Utility</th>\n    </tr>\n  </thead>\n  <tbody>\n    <tr>\n      <th>0</th>\n      <td>1</td>\n      <td>T</td>\n      <td>H</td>\n      <td>T</td>\n      <td>H</td>\n      <td>H</td>\n      <td>T</td>\n      <td>-216</td>\n    </tr>\n    <tr>\n      <th>1</th>\n      <td>2</td>\n      <td>H</td>\n      <td>T</td>\n      <td>T</td>\n      <td>H</td>\n      <td>T</td>\n      <td>T</td>\n      <td>-276</td>\n    </tr>\n    <tr>\n      <th>2</th>\n      <td>3</td>\n      <td>T</td>\n      <td>H</td>\n      <td>T</td>\n      <td>H</td>\n      <td>T</td>\n      <td>T</td>\n      <td>-276</td>\n    </tr>\n    <tr>\n      <th>3</th>\n      <td>4</td>\n      <td>T</td>\n      <td>H</td>\n      <td>H</td>\n      <td>H</td>\n      <td>H</td>\n      <td>H</td>\n      <td>516</td>\n    </tr>\n    <tr>\n      <th>4</th>\n      <td>5</td>\n      <td>H</td>\n      <td>H</td>\n      <td>H</td>\n      <td>T</td>\n      <td>T</td>\n      <td>T</td>\n      <td>1644</td>\n    </tr>\n    <tr>\n      <th>...</th>\n      <td>...</td>\n      <td>...</td>\n      <td>...</td>\n      <td>...</td>\n      <td>...</td>\n      <td>...</td>\n      <td>...</td>\n      <td>...</td>\n    </tr>\n    <tr>\n      <th>59</th>\n      <td>60</td>\n      <td>T</td>\n      <td>T</td>\n      <td>T</td>\n      <td>T</td>\n      <td>H</td>\n      <td>H</td>\n      <td>-1884</td>\n    </tr>\n    <tr>\n      <th>60</th>\n      <td>61</td>\n      <td>H</td>\n      <td>H</td>\n      <td>H</td>\n      <td>T</td>\n      <td>T</td>\n      <td>T</td>\n      <td>1644</td>\n    </tr>\n    <tr>\n      <th>61</th>\n      <td>62</td>\n      <td>H</td>\n      <td>H</td>\n      <td>T</td>\n      <td>T</td>\n      <td>T</td>\n      <td>T</td>\n      <td>924</td>\n    </tr>\n    <tr>\n      <th>62</th>\n      <td>63</td>\n      <td>T</td>\n      <td>H</td>\n      <td>H</td>\n      <td>H</td>\n      <td>T</td>\n      <td>T</td>\n      <td>444</td>\n    </tr>\n    <tr>\n      <th>63</th>\n      <td>64</td>\n      <td>T</td>\n      <td>T</td>\n      <td>T</td>\n      <td>T</td>\n      <td>T</td>\n      <td>T</td>\n      <td>-1956</td>\n    </tr>\n  </tbody>\n</table>\n<p>64 rows × 8 columns</p>\n</div>"
     },
     "execution_count": 13,
     "metadata": {},
     "output_type": "execute_result"
    }
   ],
   "source": [
    "simulationData"
   ],
   "metadata": {
    "collapsed": false,
    "ExecuteTime": {
     "end_time": "2023-11-17T21:04:38.570287Z",
     "start_time": "2023-11-17T21:04:38.565964Z"
    }
   },
   "id": "015373a0"
  }
 ],
 "metadata": {
  "kernelspec": {
   "display_name": "Python 3 (ipykernel)",
   "language": "python",
   "name": "python3"
  },
  "language_info": {
   "codemirror_mode": {
    "name": "ipython",
    "version": 3
   },
   "file_extension": ".py",
   "mimetype": "text/x-python",
   "name": "python",
   "nbconvert_exporter": "python",
   "pygments_lexer": "ipython3",
   "version": "3.11.3"
  }
 },
 "nbformat": 4,
 "nbformat_minor": 5
}
